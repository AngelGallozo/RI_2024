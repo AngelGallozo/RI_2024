{
 "cells": [
  {
   "cell_type": "code",
   "execution_count": 1,
   "metadata": {},
   "outputs": [],
   "source": [
    "import re "
   ]
  },
  {
   "cell_type": "code",
   "execution_count": 3,
   "metadata": {},
   "outputs": [],
   "source": [
    "def binary_search(arr, x):\n",
    "        \"\"\"\n",
    "        Realiza una búsqueda binaria en un array ordenado.\n",
    "        Args:\n",
    "        arr (list): El array ordenado donde se realizará la búsqueda.\n",
    "        x: El elemento a buscar en el array.\n",
    "        Returns:\n",
    "        int: La posición del elemento en el array si se encuentra, -1 si no se encuentra.\n",
    "        \"\"\"\n",
    "        left = 0\n",
    "        right = len(arr) - 1\n",
    "\n",
    "        while left <= right:\n",
    "            mid = (left + right) // 2\n",
    "\n",
    "            # Si el elemento está en el medio\n",
    "            if arr[mid] == x:\n",
    "                return mid\n",
    "            # Si el elemento es mayor que el valor medio, se busca en la mitad derecha\n",
    "            elif arr[mid] < x:\n",
    "                left = mid + 1\n",
    "            # Si el elemento es menor que el valor medio, se busca en la mitad izquierda\n",
    "            else:\n",
    "                right = mid - 1\n",
    "\n",
    "        # Si el elemento no está en el array\n",
    "        return -1\n"
   ]
  },
  {
   "cell_type": "code",
   "execution_count": 5,
   "metadata": {},
   "outputs": [],
   "source": [
    "class PostingList:\n",
    "    docids: list[int]\n",
    "    scores: list[float]=None\n",
    "    skips: list[int]=None\n",
    "    cursor: int=0\n",
    "    df: int=0\n",
    "    search_method=\"naive\"\n",
    "\n",
    "    def __init__(self,docids,scores=[]):\n",
    "        self.docids=docids\n",
    "        self.scores=scores\n",
    "        self.cursor = 0\n",
    "        self.df=len(docids)\n",
    "    \n",
    "    # Devuelve el docid actual\n",
    "    def docid(self):\n",
    "        if self.cursor<0:\n",
    "            return None\n",
    "        \n",
    "        return self.docids[self.cursor]\n",
    "    \n",
    "    # Avanza el puntero al siguiente docid(secuencialmente)\n",
    "    def next_(self):\n",
    "        if self.cursor < (len(self.docids)-1):\n",
    "            self.cursor+=1\n",
    "        else:\n",
    "            self.cursor=-1\n",
    "    \n",
    "    # Devuelve el score que tenga el termino en el docid actual\n",
    "    def score(self): \n",
    "        return self.scores[self.cursor]\n",
    "\n",
    "    # Devuelve el docid mayor o igual al recibido por parametro aca, optimizamos por skiplist o binary_Search\n",
    "    def ge(self,docid:int):\n",
    "        if self.cursor == -1:\n",
    "            return None\n",
    "\n",
    "        if self.search_method == \"naive\":\n",
    "            while(self.cursor != -1) and (self.docid()<docid):\n",
    "                self.next_()\n",
    "            return self.docids[self.cursor] if self.cursor !=-1 else None\n",
    "\n",
    "        if self.search_method == \"binary\":\n",
    "            raise NotImplementedError\n",
    "\n",
    "        if self.search_method == \"skip\":\n",
    "            raise NotImplementedError\n",
    "    \n",
    "    def _reset(self):\n",
    "        self.cursor = 0\n",
    "\n",
    "    #Retorna la lista de docids\n",
    "    def get_docids(self):\n",
    "        return self.docids\n",
    "    \n",
    "     #Retorna la lista de scores\n",
    "    def get_scores(self):\n",
    "        return self.scores\n",
    "    \n",
    "    def get_document_frequency(self): \n",
    "        return self.df\n",
    "\n",
    "    #Actualiza el score de una posting por su docid\n",
    "    def update_score_posting(self,docid,score):\n",
    "        self.scores[docid]+=score\n",
    "    \n",
    "    #Agrega una nueva posting a la lista\n",
    "    def add_posting(self,docid,score):\n",
    "        self.docids.append(docid)\n",
    "        self.scores.append(score)\n",
    "        self.df+=1\n",
    "\n",
    "    #Retorna el indice del docid en la lista de docids\n",
    "    def search_docid(self,docid):\n",
    "        index = binary_search(self.docids,docid)\n",
    "        return index\n",
    "    "
   ]
  },
  {
   "cell_type": "code",
   "execution_count": 6,
   "metadata": {},
   "outputs": [],
   "source": [
    "def binary_merge(postings):\n",
    "        a = postings[0]\n",
    "        for posting in postings[1:]:\n",
    "            temp_posting = []\n",
    "            current = a.docid()\n",
    "            while current:\n",
    "                posting.ge(current)\n",
    "                if posting.docid()==current:\n",
    "                    temp_posting.append(current)\n",
    "                a.next_()\n",
    "                current = a.docid()\n",
    "            a = PostingList(docids=temp_posting)\n",
    "        return a"
   ]
  },
  {
   "cell_type": "code",
   "execution_count": 7,
   "metadata": {},
   "outputs": [],
   "source": [
    "def query_and(posting_one,posting_two):\n",
    "    intersection = []\n",
    "    while(posting_one.cursor != -1) and (posting_two.cursor != -1):\n",
    "        if posting_one.docid() == posting_two.docid():\n",
    "            intersection.append(posting_one.docid())\n",
    "            posting_one.next_()\n",
    "            posting_two.next_()\n",
    "        elif posting_one.docid() < posting_two.docid():\n",
    "            posting_one.next_()\n",
    "        else:\n",
    "            posting_two.next_()\n",
    "    return PostingList(docids=intersection)\n",
    "    \n",
    "def query_or(posting_one,posting_two):\n",
    "    union = []\n",
    "    while(posting_one.cursor != -1) and (posting_two.cursor != -1):\n",
    "        if posting_one.docid() < posting_two.docid():\n",
    "            union.append(posting_one.docid())\n",
    "            posting_one.next_()\n",
    "        elif posting_one.docid() > posting_two.docid():\n",
    "            union.append(posting_two.docid())\n",
    "            posting_two.next_()\n",
    "        else:\n",
    "            union.append(posting_one.docid())\n",
    "            posting_one.next_()\n",
    "            posting_two.next_()\n",
    "    \n",
    "    while posting_one.cursor != -1 :\n",
    "        union.append(posting_one.docid())\n",
    "        posting_one.next_()\n",
    "    \n",
    "    while posting_two.cursor != -1:\n",
    "        union.append(posting_two.docid())\n",
    "        posting_two.next_()\n",
    "    \n",
    "    return PostingList(docids=union)\n",
    "    \n",
    "def query_not(posting_one,posting_two):\n",
    "    negative=[]\n",
    "    \n",
    "    while posting_one.cursor != -1:\n",
    "        current =  posting_one.docid()\n",
    "        if current != posting_two.ge(current):\n",
    "            negative.append(current)\n",
    "\n",
    "        posting_one.next_()\n",
    " \n",
    "    \n",
    "    return PostingList(docids=negative)\n"
   ]
  },
  {
   "cell_type": "code",
   "execution_count": 24,
   "metadata": {},
   "outputs": [],
   "source": [
    "import heapq\n",
    "TOP_K=5\n",
    "def DocumentAtATime(postings):\n",
    "    top_k = [(0,0)]*TOP_K\n",
    "    heapq.heapify(top_k)\n",
    "    result={}\n",
    "    uniques = binary_merge(postings).get_docids()\n",
    "    print(\"reseteo\")\n",
    "    for p in postings:\n",
    "        p._reset()\n",
    "    print(\"empezo\")\n",
    "    print(uniques)\n",
    "    for d in uniques:\n",
    "        print(\"procesing:\",d)\n",
    "        for p in postings:\n",
    "            current = p.ge(d)\n",
    "            if current == d:\n",
    "                result[d] = result.get(p.docid(),0) + p.score()\n",
    "                p.next_()\n",
    "        print(\"score:\",result[d], \"min-heap: \",top_k[0][0])\n",
    "        if result[d] > top_k[0][0]:\n",
    "            heapq.heappushpop(top_k,(result[d],d))\n",
    "    \n",
    "    return heapq.nlargest(TOP_K,top_k)"
   ]
  },
  {
   "cell_type": "code",
   "execution_count": 27,
   "metadata": {},
   "outputs": [
    {
     "name": "stdout",
     "output_type": "stream",
     "text": [
      "reseteo\n",
      "empezo\n",
      "[1, 4, 6, 8, 9, 10]\n",
      "procesing: 1\n",
      "score: 27 min-heap:  0\n",
      "procesing: 4\n",
      "score: 8 min-heap:  0\n",
      "procesing: 6\n",
      "score: 37 min-heap:  0\n",
      "procesing: 8\n",
      "score: 282 min-heap:  0\n",
      "procesing: 9\n",
      "score: 723 min-heap:  0\n",
      "procesing: 10\n",
      "score: 118 min-heap:  8\n",
      "[(723, 9), (282, 8), (118, 10), (37, 6), (27, 1)]\n"
     ]
    }
   ],
   "source": [
    "p1 = PostingList(docids=[1, 2, 3, 4, 6,7,8,9,10,11], scores=[23,2,41,2,10,12,3,45,65,2])\n",
    "p2 = PostingList(docids=[1,4,6,8,9,10,50,], scores=[2,3,23,45,677,8,23])\n",
    "p3 = PostingList(docids=[1,4,6,8,9,10], scores=[2,3,4,234,1,45])\n",
    "# print(binary_merge([p1,p2,p3]).docids)\n",
    "print(DocumentAtATime([p1,p2,p3]))\n",
    "\n"
   ]
  },
  {
   "cell_type": "code",
   "execution_count": 35,
   "metadata": {},
   "outputs": [
    {
     "name": "stdout",
     "output_type": "stream",
     "text": [
      "[2, 3, 4, 6]\n"
     ]
    }
   ],
   "source": [
    "print(query_not(p1,p2).docids)"
   ]
  },
  {
   "cell_type": "code",
   "execution_count": null,
   "metadata": {},
   "outputs": [],
   "source": [
    "def query_processing():\n",
    "    def inter(l1: list[int],l2:list[int])->list[int]:\n",
    "        return list(set(l1).union)"
   ]
  },
  {
   "cell_type": "code",
   "execution_count": 1,
   "metadata": {},
   "outputs": [
    {
     "name": "stdout",
     "output_type": "stream",
     "text": [
      "Pares de términos y operadores:\n",
      "[(((('(perro', 'casa)', 'OR'), '(gato', 'AND'), '(pato', 'AND'), '(perro', 'NOT'), 'casa)))']\n"
     ]
    }
   ],
   "source": [
    "def analizar_query(query):\n",
    "    stack = []\n",
    "    pares_terminos = []\n",
    "\n",
    "    for token in query.split():\n",
    "        if token == '(':\n",
    "            stack.append(token)\n",
    "        elif token == ')':\n",
    "            while stack[-1] != '(':\n",
    "                operador = stack.pop()\n",
    "                termino2 = pares_terminos.pop()\n",
    "                termino1 = pares_terminos.pop()\n",
    "                pares_terminos.append((termino1, termino2, operador))\n",
    "            stack.pop()  # Eliminar el '(' correspondiente\n",
    "        elif token in ['AND', 'OR', 'NOT']:\n",
    "            stack.append(token)\n",
    "        else:\n",
    "            pares_terminos.append(token)\n",
    "\n",
    "        while len(stack) >= 2 and stack[-1] not in ['(', ')']:\n",
    "            operador = stack.pop()\n",
    "            termino2 = pares_terminos.pop()\n",
    "            termino1 = pares_terminos.pop()\n",
    "            pares_terminos.append((termino1, termino2, operador))\n",
    "\n",
    "    return pares_terminos\n",
    "\n",
    "# Ejemplo de uso:\n",
    "query = \"(perro AND casa) OR (gato AND (pato AND (perro NOT casa)))\"\n",
    "pares_terminos = analizar_query(query)\n",
    "print(\"Pares de términos y operadores:\")\n",
    "print(pares_terminos)"
   ]
  },
  {
   "cell_type": "code",
   "execution_count": 10,
   "metadata": {},
   "outputs": [
    {
     "data": {
      "text/plain": [
       "'OR camion'"
      ]
     },
     "execution_count": 10,
     "metadata": {},
     "output_type": "execute_result"
    }
   ],
   "source": [
    "user_input='(perro AND gato)OR camion'\n",
    "parenthesis = re.findall(r'\\((.*?)\\)', user_input)[0]\n",
    "# parenthesis_resultset = set(self.query(parenthesis))\n",
    "# rest = user_input.replace(\"(\"+parenthesis+\")\", \"\")\n",
    "parenthesis\n",
    "rest = user_input.replace(\"(\"+parenthesis+\")\", \"\")\n",
    "rest"
   ]
  },
  {
   "cell_type": "code",
   "execution_count": 11,
   "metadata": {},
   "outputs": [
    {
     "name": "stdout",
     "output_type": "stream",
     "text": [
      "Hay un OR\n"
     ]
    }
   ],
   "source": [
    "if \"AND\" in rest:\n",
    "    print(\"Hay un AND\")\n",
    "\n",
    "if \"NOT\" in rest:\n",
    "    print(\"Hay un NOT\")\n",
    "if \"OR\" in rest:\n",
    "    print(\"Hay un OR\")"
   ]
  }
 ],
 "metadata": {
  "kernelspec": {
   "display_name": "Python 3",
   "language": "python",
   "name": "python3"
  },
  "language_info": {
   "codemirror_mode": {
    "name": "ipython",
    "version": 3
   },
   "file_extension": ".py",
   "mimetype": "text/x-python",
   "name": "python",
   "nbconvert_exporter": "python",
   "pygments_lexer": "ipython3",
   "version": "3.10.5"
  }
 },
 "nbformat": 4,
 "nbformat_minor": 2
}
