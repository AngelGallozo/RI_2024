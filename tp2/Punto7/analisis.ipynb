{
 "cells": [
  {
   "cell_type": "code",
   "execution_count": 16,
   "metadata": {},
   "outputs": [],
   "source": [
    "import numpy as np"
   ]
  },
  {
   "attachments": {},
   "cell_type": "markdown",
   "metadata": {},
   "source": [
    "#### PROCESAMIENTO DE DOCS"
   ]
  },
  {
   "cell_type": "code",
   "execution_count": 38,
   "metadata": {},
   "outputs": [
    {
     "name": "stdout",
     "output_type": "stream",
     "text": [
      "[3758, 5123, 1878, 4583, 4775, 1083, 5541, 2632, 1448, 3623, 3909, 3151, 1606, 234, 853, 408, 5768, 1117, 3239, 2671]\n",
      "[408, 3968, 4775, 4583, 3758, 2632, 853, 5123, 1482, 1083, 3623, 704, 1878, 234, 3909, 2172, 3579, 5541, 3151, 1606]\n"
     ]
    }
   ],
   "source": [
    "terrier_rank = {}\n",
    "with open(\"TF-IDF_RANK.txt\",'r',encoding='utf-8') as f:\n",
    "    for line in f:\n",
    "        num_q, id_doc, doc_no, rank, score, *query = line.split()\n",
    "        if num_q in terrier_rank: \n",
    "            terrier_rank[num_q].append(int(doc_no))\n",
    "        else:\n",
    "            terrier_rank[num_q]=[int(doc_no)]\n",
    "\n",
    "querys_rank = {}\n",
    "index_query = 1\n",
    "while (index_query < 6):\n",
    "    with open(f'q{index_query}_ranking.txt','r',encoding='utf-8') as f:\n",
    "        for line in f:\n",
    "            id_doc,score,met = line.split()\n",
    "            if index_query in querys_rank: \n",
    "                querys_rank[index_query].append(int(id_doc))\n",
    "            else:\n",
    "                querys_rank[index_query]=[int(id_doc)]\n",
    "    index_query += 1\n",
    "\n",
    "print(terrier_rank['1'][:20])\n",
    "print(querys_rank[1][:20])"
   ]
  },
  {
   "attachments": {},
   "cell_type": "markdown",
   "metadata": {},
   "source": [
    "#### Comparacion de Rankings"
   ]
  },
  {
   "cell_type": "code",
   "execution_count": 41,
   "metadata": {},
   "outputs": [
    {
     "name": "stdout",
     "output_type": "stream",
     "text": [
      "Correlación Q1 :0.6785124267222156\n",
      "\n",
      "\n",
      "Correlación Q2 :0.6538535893631239\n",
      "\n",
      "\n",
      "Correlación Q3 :0.5886652762669767\n",
      "\n",
      "\n",
      "Correlación Q4 :0.7466581773801598\n",
      "\n",
      "\n",
      "Correlación Q5 :0.5041458623344943\n",
      "\n",
      "\n"
     ]
    }
   ],
   "source": [
    "for q in range(1,6):\n",
    "    ter_rank_100 = terrier_rank[str(q)][:100]\n",
    "    res_rank = querys_rank[q][:100]\n",
    "\n",
    "    vec = []\n",
    "    pos = []\n",
    "    els_eliminar = []\n",
    "    for i,id_doc in enumerate(ter_rank_100):\n",
    "        pos.append(i+1)\n",
    "        encontrado = False\n",
    "        for index,doc in enumerate(res_rank):\n",
    "            if (id_doc == doc):\n",
    "                vec.append(index+1)\n",
    "                encontrado = True\n",
    "                break\n",
    "        \n",
    "        if not encontrado:\n",
    "            els_eliminar.append(i+1)\n",
    "        \n",
    "    #Eliminar elementos inexistentes\n",
    "    for elem in els_eliminar:\n",
    "        pos.remove(elem)\n",
    "    \n",
    "    correlation_matrix = np.corrcoef(vec,pos )\n",
    "    correlation = correlation_matrix[0, 1]\n",
    "\n",
    "    print(\"Correlación Q\"+str(q)+\" :\"+str(correlation)+\"\\n\\n\")\n",
    "\n"
   ]
  },
  {
   "cell_type": "code",
   "execution_count": 37,
   "metadata": {},
   "outputs": [
    {
     "name": "stdout",
     "output_type": "stream",
     "text": [
      "Correlación entre los dos conjuntos de datos: 0.07023807645029115\n"
     ]
    }
   ],
   "source": [
    "# Definir los dos conjuntos de datos\n",
    "vec1 = [3757, 5122, 1877, 4582, 4774, 1082, 5540, 2631, 1447, 3622, 3908, 3150, 1605, 233, 852, 407, 5767, 1116, 3238, 2670]\n",
    "vec2 = [408, 3968, 4775, 4583, 3758, 2632, 853, 5123, 1482, 1083, 3623, 704, 1878, 234, 3909, 2172, 3579, 5541, 3151, 1606]\n",
    "\n",
    "# Calcular la correlación\n",
    "correlation_matrix = np.corrcoef(vec1, vec2)\n",
    "\n",
    "# Obtener la correlación entre los dos conjuntos\n",
    "correlation = correlation_matrix[0, 1]\n",
    "\n",
    "print(\"Correlación entre los dos conjuntos de datos:\", correlation)"
   ]
  }
 ],
 "metadata": {
  "kernelspec": {
   "display_name": "Python 3",
   "language": "python",
   "name": "python3"
  },
  "language_info": {
   "codemirror_mode": {
    "name": "ipython",
    "version": 3
   },
   "file_extension": ".py",
   "mimetype": "text/x-python",
   "name": "python",
   "nbconvert_exporter": "python",
   "pygments_lexer": "ipython3",
   "version": "3.10.5"
  },
  "orig_nbformat": 4
 },
 "nbformat": 4,
 "nbformat_minor": 2
}
